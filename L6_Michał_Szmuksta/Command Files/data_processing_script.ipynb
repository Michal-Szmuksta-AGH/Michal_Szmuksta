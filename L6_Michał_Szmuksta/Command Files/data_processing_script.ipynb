{
 "cells": [
  {
   "cell_type": "code",
   "execution_count": 33,
   "metadata": {},
   "outputs": [],
   "source": [
    "import pandas as pd"
   ]
  },
  {
   "cell_type": "markdown",
   "metadata": {},
   "source": [
    "**1. Wczytanie danych z pliku**"
   ]
  },
  {
   "cell_type": "code",
   "execution_count": 34,
   "metadata": {},
   "outputs": [
    {
     "data": {
      "text/plain": "     Unnamed: 0  Dni od zakupu       Marka  Wiek kupującego Płeć kupującego  \\\n0             0              3  Electrolux             41.0               M   \n1             1              7  Electrolux             57.0               M   \n2             2              9  Electrolux              NaN               K   \n3             3              8        Beko              NaN               M   \n4             4             10        Beko             35.0               M   \n..          ...            ...         ...              ...             ...   \n529         529              8     Samsung             39.0               M   \n530         530              9  Electrolux             26.0               K   \n531         531              6        Beko             43.0               M   \n532         532              5        Beko              NaN               M   \n533         533              9  Electrolux             57.0               K   \n\n     Ocena  \n0      3.0  \n1      3.0  \n2      4.5  \n3      1.5  \n4      2.5  \n..     ...  \n529    1.5  \n530    1.5  \n531    2.5  \n532    2.5  \n533    1.5  \n\n[534 rows x 6 columns]",
      "text/html": "<div>\n<style scoped>\n    .dataframe tbody tr th:only-of-type {\n        vertical-align: middle;\n    }\n\n    .dataframe tbody tr th {\n        vertical-align: top;\n    }\n\n    .dataframe thead th {\n        text-align: right;\n    }\n</style>\n<table border=\"1\" class=\"dataframe\">\n  <thead>\n    <tr style=\"text-align: right;\">\n      <th></th>\n      <th>Unnamed: 0</th>\n      <th>Dni od zakupu</th>\n      <th>Marka</th>\n      <th>Wiek kupującego</th>\n      <th>Płeć kupującego</th>\n      <th>Ocena</th>\n    </tr>\n  </thead>\n  <tbody>\n    <tr>\n      <th>0</th>\n      <td>0</td>\n      <td>3</td>\n      <td>Electrolux</td>\n      <td>41.0</td>\n      <td>M</td>\n      <td>3.0</td>\n    </tr>\n    <tr>\n      <th>1</th>\n      <td>1</td>\n      <td>7</td>\n      <td>Electrolux</td>\n      <td>57.0</td>\n      <td>M</td>\n      <td>3.0</td>\n    </tr>\n    <tr>\n      <th>2</th>\n      <td>2</td>\n      <td>9</td>\n      <td>Electrolux</td>\n      <td>NaN</td>\n      <td>K</td>\n      <td>4.5</td>\n    </tr>\n    <tr>\n      <th>3</th>\n      <td>3</td>\n      <td>8</td>\n      <td>Beko</td>\n      <td>NaN</td>\n      <td>M</td>\n      <td>1.5</td>\n    </tr>\n    <tr>\n      <th>4</th>\n      <td>4</td>\n      <td>10</td>\n      <td>Beko</td>\n      <td>35.0</td>\n      <td>M</td>\n      <td>2.5</td>\n    </tr>\n    <tr>\n      <th>...</th>\n      <td>...</td>\n      <td>...</td>\n      <td>...</td>\n      <td>...</td>\n      <td>...</td>\n      <td>...</td>\n    </tr>\n    <tr>\n      <th>529</th>\n      <td>529</td>\n      <td>8</td>\n      <td>Samsung</td>\n      <td>39.0</td>\n      <td>M</td>\n      <td>1.5</td>\n    </tr>\n    <tr>\n      <th>530</th>\n      <td>530</td>\n      <td>9</td>\n      <td>Electrolux</td>\n      <td>26.0</td>\n      <td>K</td>\n      <td>1.5</td>\n    </tr>\n    <tr>\n      <th>531</th>\n      <td>531</td>\n      <td>6</td>\n      <td>Beko</td>\n      <td>43.0</td>\n      <td>M</td>\n      <td>2.5</td>\n    </tr>\n    <tr>\n      <th>532</th>\n      <td>532</td>\n      <td>5</td>\n      <td>Beko</td>\n      <td>NaN</td>\n      <td>M</td>\n      <td>2.5</td>\n    </tr>\n    <tr>\n      <th>533</th>\n      <td>533</td>\n      <td>9</td>\n      <td>Electrolux</td>\n      <td>57.0</td>\n      <td>K</td>\n      <td>1.5</td>\n    </tr>\n  </tbody>\n</table>\n<p>534 rows × 6 columns</p>\n</div>"
     },
     "execution_count": 34,
     "metadata": {},
     "output_type": "execute_result"
    }
   ],
   "source": [
    "Wielkopolskie = pd.read_csv(\"../Original Data/14_WIELKOPOLSKIE.csv\")\n",
    "Wielkopolskie"
   ]
  },
  {
   "cell_type": "markdown",
   "metadata": {},
   "source": [
    "**2. Usunięcie kolumny z indeksami**"
   ]
  },
  {
   "cell_type": "code",
   "execution_count": 35,
   "metadata": {},
   "outputs": [
    {
     "data": {
      "text/plain": "     Dni od zakupu       Marka  Wiek kupującego Płeć kupującego  Ocena\n0                3  Electrolux             41.0               M    3.0\n1                7  Electrolux             57.0               M    3.0\n2                9  Electrolux              NaN               K    4.5\n3                8        Beko              NaN               M    1.5\n4               10        Beko             35.0               M    2.5\n..             ...         ...              ...             ...    ...\n529              8     Samsung             39.0               M    1.5\n530              9  Electrolux             26.0               K    1.5\n531              6        Beko             43.0               M    2.5\n532              5        Beko              NaN               M    2.5\n533              9  Electrolux             57.0               K    1.5\n\n[534 rows x 5 columns]",
      "text/html": "<div>\n<style scoped>\n    .dataframe tbody tr th:only-of-type {\n        vertical-align: middle;\n    }\n\n    .dataframe tbody tr th {\n        vertical-align: top;\n    }\n\n    .dataframe thead th {\n        text-align: right;\n    }\n</style>\n<table border=\"1\" class=\"dataframe\">\n  <thead>\n    <tr style=\"text-align: right;\">\n      <th></th>\n      <th>Dni od zakupu</th>\n      <th>Marka</th>\n      <th>Wiek kupującego</th>\n      <th>Płeć kupującego</th>\n      <th>Ocena</th>\n    </tr>\n  </thead>\n  <tbody>\n    <tr>\n      <th>0</th>\n      <td>3</td>\n      <td>Electrolux</td>\n      <td>41.0</td>\n      <td>M</td>\n      <td>3.0</td>\n    </tr>\n    <tr>\n      <th>1</th>\n      <td>7</td>\n      <td>Electrolux</td>\n      <td>57.0</td>\n      <td>M</td>\n      <td>3.0</td>\n    </tr>\n    <tr>\n      <th>2</th>\n      <td>9</td>\n      <td>Electrolux</td>\n      <td>NaN</td>\n      <td>K</td>\n      <td>4.5</td>\n    </tr>\n    <tr>\n      <th>3</th>\n      <td>8</td>\n      <td>Beko</td>\n      <td>NaN</td>\n      <td>M</td>\n      <td>1.5</td>\n    </tr>\n    <tr>\n      <th>4</th>\n      <td>10</td>\n      <td>Beko</td>\n      <td>35.0</td>\n      <td>M</td>\n      <td>2.5</td>\n    </tr>\n    <tr>\n      <th>...</th>\n      <td>...</td>\n      <td>...</td>\n      <td>...</td>\n      <td>...</td>\n      <td>...</td>\n    </tr>\n    <tr>\n      <th>529</th>\n      <td>8</td>\n      <td>Samsung</td>\n      <td>39.0</td>\n      <td>M</td>\n      <td>1.5</td>\n    </tr>\n    <tr>\n      <th>530</th>\n      <td>9</td>\n      <td>Electrolux</td>\n      <td>26.0</td>\n      <td>K</td>\n      <td>1.5</td>\n    </tr>\n    <tr>\n      <th>531</th>\n      <td>6</td>\n      <td>Beko</td>\n      <td>43.0</td>\n      <td>M</td>\n      <td>2.5</td>\n    </tr>\n    <tr>\n      <th>532</th>\n      <td>5</td>\n      <td>Beko</td>\n      <td>NaN</td>\n      <td>M</td>\n      <td>2.5</td>\n    </tr>\n    <tr>\n      <th>533</th>\n      <td>9</td>\n      <td>Electrolux</td>\n      <td>57.0</td>\n      <td>K</td>\n      <td>1.5</td>\n    </tr>\n  </tbody>\n</table>\n<p>534 rows × 5 columns</p>\n</div>"
     },
     "execution_count": 35,
     "metadata": {},
     "output_type": "execute_result"
    }
   ],
   "source": [
    "Wielkopolskie = Wielkopolskie.drop('Unnamed: 0', axis=1)\n",
    "Wielkopolskie"
   ]
  },
  {
   "cell_type": "markdown",
   "metadata": {},
   "source": [
    "**3. Usunięcie rekordów niezawierających wieku kupującego**"
   ]
  },
  {
   "cell_type": "code",
   "execution_count": 36,
   "metadata": {},
   "outputs": [
    {
     "data": {
      "text/plain": "     Dni od zakupu       Marka  Wiek kupującego Płeć kupującego  Ocena\n0                3  Electrolux             41.0               M    3.0\n1                7  Electrolux             57.0               M    3.0\n4               10        Beko             35.0               M    2.5\n5                5        Beko             53.0               M    2.0\n6                5  Electrolux             27.0               K    4.5\n..             ...         ...              ...             ...    ...\n528              2       Dyson             39.0               M    3.0\n529              8     Samsung             39.0               M    1.5\n530              9  Electrolux             26.0               K    1.5\n531              6        Beko             43.0               M    2.5\n533              9  Electrolux             57.0               K    1.5\n\n[473 rows x 5 columns]",
      "text/html": "<div>\n<style scoped>\n    .dataframe tbody tr th:only-of-type {\n        vertical-align: middle;\n    }\n\n    .dataframe tbody tr th {\n        vertical-align: top;\n    }\n\n    .dataframe thead th {\n        text-align: right;\n    }\n</style>\n<table border=\"1\" class=\"dataframe\">\n  <thead>\n    <tr style=\"text-align: right;\">\n      <th></th>\n      <th>Dni od zakupu</th>\n      <th>Marka</th>\n      <th>Wiek kupującego</th>\n      <th>Płeć kupującego</th>\n      <th>Ocena</th>\n    </tr>\n  </thead>\n  <tbody>\n    <tr>\n      <th>0</th>\n      <td>3</td>\n      <td>Electrolux</td>\n      <td>41.0</td>\n      <td>M</td>\n      <td>3.0</td>\n    </tr>\n    <tr>\n      <th>1</th>\n      <td>7</td>\n      <td>Electrolux</td>\n      <td>57.0</td>\n      <td>M</td>\n      <td>3.0</td>\n    </tr>\n    <tr>\n      <th>4</th>\n      <td>10</td>\n      <td>Beko</td>\n      <td>35.0</td>\n      <td>M</td>\n      <td>2.5</td>\n    </tr>\n    <tr>\n      <th>5</th>\n      <td>5</td>\n      <td>Beko</td>\n      <td>53.0</td>\n      <td>M</td>\n      <td>2.0</td>\n    </tr>\n    <tr>\n      <th>6</th>\n      <td>5</td>\n      <td>Electrolux</td>\n      <td>27.0</td>\n      <td>K</td>\n      <td>4.5</td>\n    </tr>\n    <tr>\n      <th>...</th>\n      <td>...</td>\n      <td>...</td>\n      <td>...</td>\n      <td>...</td>\n      <td>...</td>\n    </tr>\n    <tr>\n      <th>528</th>\n      <td>2</td>\n      <td>Dyson</td>\n      <td>39.0</td>\n      <td>M</td>\n      <td>3.0</td>\n    </tr>\n    <tr>\n      <th>529</th>\n      <td>8</td>\n      <td>Samsung</td>\n      <td>39.0</td>\n      <td>M</td>\n      <td>1.5</td>\n    </tr>\n    <tr>\n      <th>530</th>\n      <td>9</td>\n      <td>Electrolux</td>\n      <td>26.0</td>\n      <td>K</td>\n      <td>1.5</td>\n    </tr>\n    <tr>\n      <th>531</th>\n      <td>6</td>\n      <td>Beko</td>\n      <td>43.0</td>\n      <td>M</td>\n      <td>2.5</td>\n    </tr>\n    <tr>\n      <th>533</th>\n      <td>9</td>\n      <td>Electrolux</td>\n      <td>57.0</td>\n      <td>K</td>\n      <td>1.5</td>\n    </tr>\n  </tbody>\n</table>\n<p>473 rows × 5 columns</p>\n</div>"
     },
     "execution_count": 36,
     "metadata": {},
     "output_type": "execute_result"
    }
   ],
   "source": [
    "Wielkopolskie = Wielkopolskie.dropna(axis=0)\n",
    "Wielkopolskie"
   ]
  },
  {
   "cell_type": "markdown",
   "metadata": {},
   "source": [
    "**4. Usunięcie rekordów niezawierających płci kupującego**"
   ]
  },
  {
   "cell_type": "code",
   "execution_count": 37,
   "metadata": {},
   "outputs": [
    {
     "data": {
      "text/plain": "     Dni od zakupu       Marka  Wiek kupującego Płeć kupującego  Ocena\n0                3  Electrolux             41.0               M    3.0\n1                7  Electrolux             57.0               M    3.0\n4               10        Beko             35.0               M    2.5\n5                5        Beko             53.0               M    2.0\n6                5  Electrolux             27.0               K    4.5\n..             ...         ...              ...             ...    ...\n528              2       Dyson             39.0               M    3.0\n529              8     Samsung             39.0               M    1.5\n530              9  Electrolux             26.0               K    1.5\n531              6        Beko             43.0               M    2.5\n533              9  Electrolux             57.0               K    1.5\n\n[458 rows x 5 columns]",
      "text/html": "<div>\n<style scoped>\n    .dataframe tbody tr th:only-of-type {\n        vertical-align: middle;\n    }\n\n    .dataframe tbody tr th {\n        vertical-align: top;\n    }\n\n    .dataframe thead th {\n        text-align: right;\n    }\n</style>\n<table border=\"1\" class=\"dataframe\">\n  <thead>\n    <tr style=\"text-align: right;\">\n      <th></th>\n      <th>Dni od zakupu</th>\n      <th>Marka</th>\n      <th>Wiek kupującego</th>\n      <th>Płeć kupującego</th>\n      <th>Ocena</th>\n    </tr>\n  </thead>\n  <tbody>\n    <tr>\n      <th>0</th>\n      <td>3</td>\n      <td>Electrolux</td>\n      <td>41.0</td>\n      <td>M</td>\n      <td>3.0</td>\n    </tr>\n    <tr>\n      <th>1</th>\n      <td>7</td>\n      <td>Electrolux</td>\n      <td>57.0</td>\n      <td>M</td>\n      <td>3.0</td>\n    </tr>\n    <tr>\n      <th>4</th>\n      <td>10</td>\n      <td>Beko</td>\n      <td>35.0</td>\n      <td>M</td>\n      <td>2.5</td>\n    </tr>\n    <tr>\n      <th>5</th>\n      <td>5</td>\n      <td>Beko</td>\n      <td>53.0</td>\n      <td>M</td>\n      <td>2.0</td>\n    </tr>\n    <tr>\n      <th>6</th>\n      <td>5</td>\n      <td>Electrolux</td>\n      <td>27.0</td>\n      <td>K</td>\n      <td>4.5</td>\n    </tr>\n    <tr>\n      <th>...</th>\n      <td>...</td>\n      <td>...</td>\n      <td>...</td>\n      <td>...</td>\n      <td>...</td>\n    </tr>\n    <tr>\n      <th>528</th>\n      <td>2</td>\n      <td>Dyson</td>\n      <td>39.0</td>\n      <td>M</td>\n      <td>3.0</td>\n    </tr>\n    <tr>\n      <th>529</th>\n      <td>8</td>\n      <td>Samsung</td>\n      <td>39.0</td>\n      <td>M</td>\n      <td>1.5</td>\n    </tr>\n    <tr>\n      <th>530</th>\n      <td>9</td>\n      <td>Electrolux</td>\n      <td>26.0</td>\n      <td>K</td>\n      <td>1.5</td>\n    </tr>\n    <tr>\n      <th>531</th>\n      <td>6</td>\n      <td>Beko</td>\n      <td>43.0</td>\n      <td>M</td>\n      <td>2.5</td>\n    </tr>\n    <tr>\n      <th>533</th>\n      <td>9</td>\n      <td>Electrolux</td>\n      <td>57.0</td>\n      <td>K</td>\n      <td>1.5</td>\n    </tr>\n  </tbody>\n</table>\n<p>458 rows × 5 columns</p>\n</div>"
     },
     "execution_count": 37,
     "metadata": {},
     "output_type": "execute_result"
    }
   ],
   "source": [
    "Wielkopolskie = Wielkopolskie[Wielkopolskie['Płeć kupującego'] != 'bd.']\n",
    "Wielkopolskie"
   ]
  },
  {
   "cell_type": "markdown",
   "metadata": {},
   "source": [
    "**5. Zapis przetworzonych danych do pliku**"
   ]
  },
  {
   "cell_type": "code",
   "execution_count": 39,
   "metadata": {},
   "outputs": [],
   "source": [
    "Wielkopolskie.to_csv(\"../Analysis Data/14_WIELKOPOLSKIE_final.csv\", index=False)"
   ]
  }
 ],
 "metadata": {
  "kernelspec": {
   "display_name": "Python 3.8.8 ('MichalSzmuksta')",
   "language": "python",
   "name": "python3"
  },
  "language_info": {
   "codemirror_mode": {
    "name": "ipython",
    "version": 3
   },
   "file_extension": ".py",
   "mimetype": "text/x-python",
   "name": "python",
   "nbconvert_exporter": "python",
   "pygments_lexer": "ipython3",
   "version": "3.8.8"
  },
  "orig_nbformat": 4,
  "vscode": {
   "interpreter": {
    "hash": "89e871eed3ef8ab3c510a3c8012ced573de2894903ed77983340ab98ca85e1b7"
   }
  }
 },
 "nbformat": 4,
 "nbformat_minor": 2
}
