{
 "cells": [
  {
   "cell_type": "code",
   "execution_count": 265,
   "metadata": {},
   "outputs": [],
   "source": [
    "import pandas as pd\n",
    "from pandasql import sqldf"
   ]
  },
  {
   "cell_type": "markdown",
   "source": [
    "**Obróbka danych o pitych alkoholach**\n",
    "Wczytanie danych:"
   ],
   "metadata": {
    "collapsed": false
   }
  },
  {
   "cell_type": "code",
   "execution_count": 266,
   "outputs": [
    {
     "data": {
      "text/plain": "         country  beer_servings  spirit_servings  wine_servings  \\\n0    Afghanistan              0                0              0   \n1        Albania             89              132             54   \n2        Algeria             25                0             14   \n3        Andorra            245              138            312   \n4         Angola            217               57             45   \n..           ...            ...              ...            ...   \n188    Venezuela            333              100              3   \n189      Vietnam            111                2              1   \n190        Yemen              6                0              0   \n191       Zambia             32               19              4   \n192     Zimbabwe             64               18              4   \n\n     total_litres_of_pure_alcohol  \n0                             0.0  \n1                             4.9  \n2                             0.7  \n3                            12.4  \n4                             5.9  \n..                            ...  \n188                           7.7  \n189                           2.0  \n190                           0.1  \n191                           2.5  \n192                           4.7  \n\n[193 rows x 5 columns]",
      "text/html": "<div>\n<style scoped>\n    .dataframe tbody tr th:only-of-type {\n        vertical-align: middle;\n    }\n\n    .dataframe tbody tr th {\n        vertical-align: top;\n    }\n\n    .dataframe thead th {\n        text-align: right;\n    }\n</style>\n<table border=\"1\" class=\"dataframe\">\n  <thead>\n    <tr style=\"text-align: right;\">\n      <th></th>\n      <th>country</th>\n      <th>beer_servings</th>\n      <th>spirit_servings</th>\n      <th>wine_servings</th>\n      <th>total_litres_of_pure_alcohol</th>\n    </tr>\n  </thead>\n  <tbody>\n    <tr>\n      <th>0</th>\n      <td>Afghanistan</td>\n      <td>0</td>\n      <td>0</td>\n      <td>0</td>\n      <td>0.0</td>\n    </tr>\n    <tr>\n      <th>1</th>\n      <td>Albania</td>\n      <td>89</td>\n      <td>132</td>\n      <td>54</td>\n      <td>4.9</td>\n    </tr>\n    <tr>\n      <th>2</th>\n      <td>Algeria</td>\n      <td>25</td>\n      <td>0</td>\n      <td>14</td>\n      <td>0.7</td>\n    </tr>\n    <tr>\n      <th>3</th>\n      <td>Andorra</td>\n      <td>245</td>\n      <td>138</td>\n      <td>312</td>\n      <td>12.4</td>\n    </tr>\n    <tr>\n      <th>4</th>\n      <td>Angola</td>\n      <td>217</td>\n      <td>57</td>\n      <td>45</td>\n      <td>5.9</td>\n    </tr>\n    <tr>\n      <th>...</th>\n      <td>...</td>\n      <td>...</td>\n      <td>...</td>\n      <td>...</td>\n      <td>...</td>\n    </tr>\n    <tr>\n      <th>188</th>\n      <td>Venezuela</td>\n      <td>333</td>\n      <td>100</td>\n      <td>3</td>\n      <td>7.7</td>\n    </tr>\n    <tr>\n      <th>189</th>\n      <td>Vietnam</td>\n      <td>111</td>\n      <td>2</td>\n      <td>1</td>\n      <td>2.0</td>\n    </tr>\n    <tr>\n      <th>190</th>\n      <td>Yemen</td>\n      <td>6</td>\n      <td>0</td>\n      <td>0</td>\n      <td>0.1</td>\n    </tr>\n    <tr>\n      <th>191</th>\n      <td>Zambia</td>\n      <td>32</td>\n      <td>19</td>\n      <td>4</td>\n      <td>2.5</td>\n    </tr>\n    <tr>\n      <th>192</th>\n      <td>Zimbabwe</td>\n      <td>64</td>\n      <td>18</td>\n      <td>4</td>\n      <td>4.7</td>\n    </tr>\n  </tbody>\n</table>\n<p>193 rows × 5 columns</p>\n</div>"
     },
     "execution_count": 266,
     "metadata": {},
     "output_type": "execute_result"
    }
   ],
   "source": [
    "Drinks = pd.read_csv(\"../Original Data/drinks.csv\")\n",
    "Drinks"
   ],
   "metadata": {
    "collapsed": false
   }
  },
  {
   "cell_type": "markdown",
   "source": [
    "**Obróbka danych o kontynentach**\n",
    "Wczytanie danych o kontynencie danego kraju:"
   ],
   "metadata": {
    "collapsed": false
   }
  },
  {
   "cell_type": "code",
   "execution_count": 267,
   "outputs": [
    {
     "data": {
      "text/plain": "         Continent    Country\n0           Africa    Algeria\n1           Africa     Angola\n2           Africa      Benin\n3           Africa   Botswana\n4           Africa    Burkina\n..             ...        ...\n189  South America   Paraguay\n190  South America       Peru\n191  South America   Suriname\n192  South America    Uruguay\n193  South America  Venezuela\n\n[194 rows x 2 columns]",
      "text/html": "<div>\n<style scoped>\n    .dataframe tbody tr th:only-of-type {\n        vertical-align: middle;\n    }\n\n    .dataframe tbody tr th {\n        vertical-align: top;\n    }\n\n    .dataframe thead th {\n        text-align: right;\n    }\n</style>\n<table border=\"1\" class=\"dataframe\">\n  <thead>\n    <tr style=\"text-align: right;\">\n      <th></th>\n      <th>Continent</th>\n      <th>Country</th>\n    </tr>\n  </thead>\n  <tbody>\n    <tr>\n      <th>0</th>\n      <td>Africa</td>\n      <td>Algeria</td>\n    </tr>\n    <tr>\n      <th>1</th>\n      <td>Africa</td>\n      <td>Angola</td>\n    </tr>\n    <tr>\n      <th>2</th>\n      <td>Africa</td>\n      <td>Benin</td>\n    </tr>\n    <tr>\n      <th>3</th>\n      <td>Africa</td>\n      <td>Botswana</td>\n    </tr>\n    <tr>\n      <th>4</th>\n      <td>Africa</td>\n      <td>Burkina</td>\n    </tr>\n    <tr>\n      <th>...</th>\n      <td>...</td>\n      <td>...</td>\n    </tr>\n    <tr>\n      <th>189</th>\n      <td>South America</td>\n      <td>Paraguay</td>\n    </tr>\n    <tr>\n      <th>190</th>\n      <td>South America</td>\n      <td>Peru</td>\n    </tr>\n    <tr>\n      <th>191</th>\n      <td>South America</td>\n      <td>Suriname</td>\n    </tr>\n    <tr>\n      <th>192</th>\n      <td>South America</td>\n      <td>Uruguay</td>\n    </tr>\n    <tr>\n      <th>193</th>\n      <td>South America</td>\n      <td>Venezuela</td>\n    </tr>\n  </tbody>\n</table>\n<p>194 rows × 2 columns</p>\n</div>"
     },
     "execution_count": 267,
     "metadata": {},
     "output_type": "execute_result"
    }
   ],
   "source": [
    "Continents = pd.read_csv(\"../Original Data/countries-continents.csv\")\n",
    "Continents"
   ],
   "metadata": {
    "collapsed": false
   }
  },
  {
   "cell_type": "markdown",
   "source": [
    "Wczytanie brakujących danych:"
   ],
   "metadata": {
    "collapsed": false
   }
  },
  {
   "cell_type": "code",
   "execution_count": 268,
   "outputs": [
    {
     "data": {
      "text/plain": "        Continent                       Country\n0   North America             Antigua & Barbuda\n1          Europe            Bosnia-Herzegovina\n2          Africa                  Burkina Faso\n3          Africa                 Cote d'Ivoire\n4          Africa                    Cabo Verde\n5         Oceania                  Cook Islands\n6          Europe                Czech Republic\n7            Asia                   North Korea\n8          Africa                      DR Congo\n9            Asia                       Myanmar\n10        Oceania                          Niue\n11           Asia                   South Korea\n12  North America             St. Kitts & Nevis\n13  North America                     St. Lucia\n14  North America  St. Vincent & the Grenadines\n15         Africa           Sao Tome & Principe\n16           Asia                   Timor-Leste\n17  South America             Trinidad & Tobago\n18  North America                           USA",
      "text/html": "<div>\n<style scoped>\n    .dataframe tbody tr th:only-of-type {\n        vertical-align: middle;\n    }\n\n    .dataframe tbody tr th {\n        vertical-align: top;\n    }\n\n    .dataframe thead th {\n        text-align: right;\n    }\n</style>\n<table border=\"1\" class=\"dataframe\">\n  <thead>\n    <tr style=\"text-align: right;\">\n      <th></th>\n      <th>Continent</th>\n      <th>Country</th>\n    </tr>\n  </thead>\n  <tbody>\n    <tr>\n      <th>0</th>\n      <td>North America</td>\n      <td>Antigua &amp; Barbuda</td>\n    </tr>\n    <tr>\n      <th>1</th>\n      <td>Europe</td>\n      <td>Bosnia-Herzegovina</td>\n    </tr>\n    <tr>\n      <th>2</th>\n      <td>Africa</td>\n      <td>Burkina Faso</td>\n    </tr>\n    <tr>\n      <th>3</th>\n      <td>Africa</td>\n      <td>Cote d'Ivoire</td>\n    </tr>\n    <tr>\n      <th>4</th>\n      <td>Africa</td>\n      <td>Cabo Verde</td>\n    </tr>\n    <tr>\n      <th>5</th>\n      <td>Oceania</td>\n      <td>Cook Islands</td>\n    </tr>\n    <tr>\n      <th>6</th>\n      <td>Europe</td>\n      <td>Czech Republic</td>\n    </tr>\n    <tr>\n      <th>7</th>\n      <td>Asia</td>\n      <td>North Korea</td>\n    </tr>\n    <tr>\n      <th>8</th>\n      <td>Africa</td>\n      <td>DR Congo</td>\n    </tr>\n    <tr>\n      <th>9</th>\n      <td>Asia</td>\n      <td>Myanmar</td>\n    </tr>\n    <tr>\n      <th>10</th>\n      <td>Oceania</td>\n      <td>Niue</td>\n    </tr>\n    <tr>\n      <th>11</th>\n      <td>Asia</td>\n      <td>South Korea</td>\n    </tr>\n    <tr>\n      <th>12</th>\n      <td>North America</td>\n      <td>St. Kitts &amp; Nevis</td>\n    </tr>\n    <tr>\n      <th>13</th>\n      <td>North America</td>\n      <td>St. Lucia</td>\n    </tr>\n    <tr>\n      <th>14</th>\n      <td>North America</td>\n      <td>St. Vincent &amp; the Grenadines</td>\n    </tr>\n    <tr>\n      <th>15</th>\n      <td>Africa</td>\n      <td>Sao Tome &amp; Principe</td>\n    </tr>\n    <tr>\n      <th>16</th>\n      <td>Asia</td>\n      <td>Timor-Leste</td>\n    </tr>\n    <tr>\n      <th>17</th>\n      <td>South America</td>\n      <td>Trinidad &amp; Tobago</td>\n    </tr>\n    <tr>\n      <th>18</th>\n      <td>North America</td>\n      <td>USA</td>\n    </tr>\n  </tbody>\n</table>\n</div>"
     },
     "execution_count": 268,
     "metadata": {},
     "output_type": "execute_result"
    }
   ],
   "source": [
    "Continents_additional_data = pd.read_csv(\"../Original Data/countries-continents_additional_data.csv\")\n",
    "Continents_additional_data"
   ],
   "metadata": {
    "collapsed": false
   }
  },
  {
   "cell_type": "markdown",
   "source": [
    "Połączenie powyższych tabel:"
   ],
   "metadata": {
    "collapsed": false
   }
  },
  {
   "cell_type": "code",
   "execution_count": 269,
   "outputs": [
    {
     "data": {
      "text/plain": "         Continent                       Country\n0           Africa                       Algeria\n1           Africa                        Angola\n2           Africa                         Benin\n3           Africa                      Botswana\n4           Africa                       Burkina\n..             ...                           ...\n208  North America  St. Vincent & the Grenadines\n209         Africa           Sao Tome & Principe\n210           Asia                   Timor-Leste\n211  South America             Trinidad & Tobago\n212  North America                           USA\n\n[213 rows x 2 columns]",
      "text/html": "<div>\n<style scoped>\n    .dataframe tbody tr th:only-of-type {\n        vertical-align: middle;\n    }\n\n    .dataframe tbody tr th {\n        vertical-align: top;\n    }\n\n    .dataframe thead th {\n        text-align: right;\n    }\n</style>\n<table border=\"1\" class=\"dataframe\">\n  <thead>\n    <tr style=\"text-align: right;\">\n      <th></th>\n      <th>Continent</th>\n      <th>Country</th>\n    </tr>\n  </thead>\n  <tbody>\n    <tr>\n      <th>0</th>\n      <td>Africa</td>\n      <td>Algeria</td>\n    </tr>\n    <tr>\n      <th>1</th>\n      <td>Africa</td>\n      <td>Angola</td>\n    </tr>\n    <tr>\n      <th>2</th>\n      <td>Africa</td>\n      <td>Benin</td>\n    </tr>\n    <tr>\n      <th>3</th>\n      <td>Africa</td>\n      <td>Botswana</td>\n    </tr>\n    <tr>\n      <th>4</th>\n      <td>Africa</td>\n      <td>Burkina</td>\n    </tr>\n    <tr>\n      <th>...</th>\n      <td>...</td>\n      <td>...</td>\n    </tr>\n    <tr>\n      <th>208</th>\n      <td>North America</td>\n      <td>St. Vincent &amp; the Grenadines</td>\n    </tr>\n    <tr>\n      <th>209</th>\n      <td>Africa</td>\n      <td>Sao Tome &amp; Principe</td>\n    </tr>\n    <tr>\n      <th>210</th>\n      <td>Asia</td>\n      <td>Timor-Leste</td>\n    </tr>\n    <tr>\n      <th>211</th>\n      <td>South America</td>\n      <td>Trinidad &amp; Tobago</td>\n    </tr>\n    <tr>\n      <th>212</th>\n      <td>North America</td>\n      <td>USA</td>\n    </tr>\n  </tbody>\n</table>\n<p>213 rows × 2 columns</p>\n</div>"
     },
     "execution_count": 269,
     "metadata": {},
     "output_type": "execute_result"
    }
   ],
   "source": [
    "Continents_final = pd.concat([Continents, Continents_additional_data], ignore_index=True)\n",
    "Continents_final"
   ],
   "metadata": {
    "collapsed": false
   }
  },
  {
   "cell_type": "markdown",
   "source": [
    "**Integracja danych z obydwu tabeli**"
   ],
   "metadata": {
    "collapsed": false
   }
  },
  {
   "cell_type": "code",
   "execution_count": 270,
   "outputs": [
    {
     "data": {
      "text/plain": "         country      continent  beer_servings  spirit_servings  \\\n0    Afghanistan           Asia              0                0   \n1        Albania         Europe             89              132   \n2        Algeria         Africa             25                0   \n3        Andorra         Europe            245              138   \n4         Angola         Africa            217               57   \n..           ...            ...            ...              ...   \n188    Venezuela  South America            333              100   \n189      Vietnam           Asia            111                2   \n190        Yemen           Asia              6                0   \n191       Zambia         Africa             32               19   \n192     Zimbabwe         Africa             64               18   \n\n     wine_servings  total_litres_of_pure_alcohol  \n0                0                           0.0  \n1               54                           4.9  \n2               14                           0.7  \n3              312                          12.4  \n4               45                           5.9  \n..             ...                           ...  \n188              3                           7.7  \n189              1                           2.0  \n190              0                           0.1  \n191              4                           2.5  \n192              4                           4.7  \n\n[193 rows x 6 columns]",
      "text/html": "<div>\n<style scoped>\n    .dataframe tbody tr th:only-of-type {\n        vertical-align: middle;\n    }\n\n    .dataframe tbody tr th {\n        vertical-align: top;\n    }\n\n    .dataframe thead th {\n        text-align: right;\n    }\n</style>\n<table border=\"1\" class=\"dataframe\">\n  <thead>\n    <tr style=\"text-align: right;\">\n      <th></th>\n      <th>country</th>\n      <th>continent</th>\n      <th>beer_servings</th>\n      <th>spirit_servings</th>\n      <th>wine_servings</th>\n      <th>total_litres_of_pure_alcohol</th>\n    </tr>\n  </thead>\n  <tbody>\n    <tr>\n      <th>0</th>\n      <td>Afghanistan</td>\n      <td>Asia</td>\n      <td>0</td>\n      <td>0</td>\n      <td>0</td>\n      <td>0.0</td>\n    </tr>\n    <tr>\n      <th>1</th>\n      <td>Albania</td>\n      <td>Europe</td>\n      <td>89</td>\n      <td>132</td>\n      <td>54</td>\n      <td>4.9</td>\n    </tr>\n    <tr>\n      <th>2</th>\n      <td>Algeria</td>\n      <td>Africa</td>\n      <td>25</td>\n      <td>0</td>\n      <td>14</td>\n      <td>0.7</td>\n    </tr>\n    <tr>\n      <th>3</th>\n      <td>Andorra</td>\n      <td>Europe</td>\n      <td>245</td>\n      <td>138</td>\n      <td>312</td>\n      <td>12.4</td>\n    </tr>\n    <tr>\n      <th>4</th>\n      <td>Angola</td>\n      <td>Africa</td>\n      <td>217</td>\n      <td>57</td>\n      <td>45</td>\n      <td>5.9</td>\n    </tr>\n    <tr>\n      <th>...</th>\n      <td>...</td>\n      <td>...</td>\n      <td>...</td>\n      <td>...</td>\n      <td>...</td>\n      <td>...</td>\n    </tr>\n    <tr>\n      <th>188</th>\n      <td>Venezuela</td>\n      <td>South America</td>\n      <td>333</td>\n      <td>100</td>\n      <td>3</td>\n      <td>7.7</td>\n    </tr>\n    <tr>\n      <th>189</th>\n      <td>Vietnam</td>\n      <td>Asia</td>\n      <td>111</td>\n      <td>2</td>\n      <td>1</td>\n      <td>2.0</td>\n    </tr>\n    <tr>\n      <th>190</th>\n      <td>Yemen</td>\n      <td>Asia</td>\n      <td>6</td>\n      <td>0</td>\n      <td>0</td>\n      <td>0.1</td>\n    </tr>\n    <tr>\n      <th>191</th>\n      <td>Zambia</td>\n      <td>Africa</td>\n      <td>32</td>\n      <td>19</td>\n      <td>4</td>\n      <td>2.5</td>\n    </tr>\n    <tr>\n      <th>192</th>\n      <td>Zimbabwe</td>\n      <td>Africa</td>\n      <td>64</td>\n      <td>18</td>\n      <td>4</td>\n      <td>4.7</td>\n    </tr>\n  </tbody>\n</table>\n<p>193 rows × 6 columns</p>\n</div>"
     },
     "execution_count": 270,
     "metadata": {},
     "output_type": "execute_result"
    }
   ],
   "source": [
    "Final_data = sqldf(\"SELECT D.country, C.Continent AS continent, D.beer_servings, D.spirit_servings, D.wine_servings, D.total_litres_of_pure_alcohol\"\n",
    "                   \" FROM Drinks AS D LEFT JOIN Continents_final AS C ON C.Country = D.country\")\n",
    "Final_data"
   ],
   "metadata": {
    "collapsed": false
   }
  },
  {
   "cell_type": "markdown",
   "source": [
    "Zapis tabeli do pliku:"
   ],
   "metadata": {
    "collapsed": false
   }
  },
  {
   "cell_type": "code",
   "execution_count": 271,
   "outputs": [],
   "source": [
    "Final_data.to_csv(\"../Analysis Data/drinks_final.csv\", index=False)"
   ],
   "metadata": {
    "collapsed": false
   }
  }
 ],
 "metadata": {
  "kernelspec": {
   "display_name": "Python 3.8.8 ('MichalSzmuksta')",
   "language": "python",
   "name": "python3"
  },
  "language_info": {
   "codemirror_mode": {
    "name": "ipython",
    "version": 3
   },
   "file_extension": ".py",
   "mimetype": "text/x-python",
   "name": "python",
   "nbconvert_exporter": "python",
   "pygments_lexer": "ipython3",
   "version": "3.8.8"
  },
  "orig_nbformat": 4,
  "vscode": {
   "interpreter": {
    "hash": "89e871eed3ef8ab3c510a3c8012ced573de2894903ed77983340ab98ca85e1b7"
   }
  }
 },
 "nbformat": 4,
 "nbformat_minor": 2
}
