{
 "cells": [
  {
   "cell_type": "markdown",
   "metadata": {},
   "source": [
    "# **Laboratorium 1**\n",
    "Michał Szmuksta, gr. 7"
   ]
  },
  {
   "cell_type": "markdown",
   "metadata": {},
   "source": [
    "***Wstęp***\n",
    "Celem ćwicznia było przypomnienie sobie podstawowych funkcji biblioteki matplotlib oraz poznanie obiektu dataframe z biblioteki pandas. Na początku zaimportowano niezbędne biblioteki:"
   ]
  },
  {
   "cell_type": "code",
   "execution_count": null,
   "metadata": {
    "pycharm": {
     "is_executing": true
    }
   },
   "outputs": [],
   "source": [
    "import matplotlib.pyplot as plt\n",
    "import numpy as np\n",
    "import pandas as pd"
   ]
  },
  {
   "cell_type": "markdown",
   "metadata": {},
   "source": [
    "***Zadanie 3***\n",
    "Do generacji wykresów użyto napisanej funkcji lambda \"f\" opisującej f(x) oraz funkcji \"plot\" do generacji wykresów dla różnych parametrów wejściowych."
   ]
  },
  {
   "cell_type": "code",
   "execution_count": null,
   "metadata": {
    "pycharm": {
     "is_executing": true
    }
   },
   "outputs": [],
   "source": [
    "f = lambda x : x**2 + 5\n",
    "def plot(function, min, max, step, xlabel, ylabel, title, legend, color):\n",
    "    x = np.arange(min, max, step)\n",
    "    y = function(x)\n",
    "    plt.plot(x, y, label=legend, color=color)\n",
    "    plt.xlabel(xlabel)\n",
    "    plt.ylabel(ylabel)\n",
    "    plt.title(title)\n",
    "    plt.legend()\n",
    "    plt.show()"
   ]
  },
  {
   "cell_type": "code",
   "execution_count": null,
   "metadata": {
    "pycharm": {
     "is_executing": true
    }
   },
   "outputs": [],
   "source": [
    "plot(f, -1, 1, 0.001, 'Oś x', 'Oś y', 'Wykres funkcji f w przedziale od -1 do 1', '$y = x^2 + 5$','r')\n",
    "plot(f, -6, 6, 0.001, 'Oś x', 'Oś y', 'Wykres funkcji f w przedziale od -6 do 6', '$y = x^2 + 5$','g')\n",
    "plot(f, 0, 5, 0.001, 'Oś x', 'Oś y', 'Wykres funkcji f w przedziale od 0 do 5', '$y = x^2 + 5$','b')"
   ]
  },
  {
   "cell_type": "markdown",
   "metadata": {},
   "source": [
    "***Zadanie 4***\n",
    "Dataframe utworzono dodając wszystkie rekordy jako listy w konstruktorze klasy, a nazwy kolumn przekazano również w postaci listy jako dodatkowy argument."
   ]
  },
  {
   "cell_type": "code",
   "execution_count": null,
   "metadata": {
    "pycharm": {
     "is_executing": true
    }
   },
   "outputs": [],
   "source": [
    "column_names = ['Name', 'Surname', 'Age', 'Sex']\n",
    "dataframe = pd.DataFrame([['Adam','Abramowicz',32,'Male'],\n",
    "                          ['Bartosz', 'Bartosiewicz',18, 'Male'],\n",
    "                          ['Cyryl','Cęgielski',44, 'Male'],\n",
    "                          ['Dominik', 'Domagała',12, 'Male'],\n",
    "                          ['Engelbert', 'Edison',87, 'Male']], columns=column_names)\n",
    "dataframe"
   ]
  },
  {
   "cell_type": "markdown",
   "metadata": {},
   "source": [
    "Metoda \"info\" zwraca informację o wielkości struktury danych, typie danych w każdej kolumnie, ilości danych nie będących wartością niezdefiniowaną w kolumnie i zużyciu pamięci przez obiekt. Metoda również sumuje liczbę poszczególnych typów danych w kolejnych kolumnach."
   ]
  },
  {
   "cell_type": "code",
   "execution_count": null,
   "metadata": {
    "pycharm": {
     "is_executing": true
    }
   },
   "outputs": [],
   "source": [
    "dataframe.info()"
   ]
  },
  {
   "cell_type": "markdown",
   "metadata": {},
   "source": [
    "Metodę describe użyto w trybie \"all\" aby zobaczyć wszystkie parametry. Metoda zwraca zliczenie wszystkich zdefiniowanych rekordów w każdej kolumnie, liczbę unikalnych rekordów w każdej kolumnie, najczęściej występującą daną, średnią z danych, odchylenie standardowe, wartość minimalną i maksymalną czy też kwantyle różnych rzędów w kolumnach."
   ]
  },
  {
   "cell_type": "code",
   "execution_count": null,
   "metadata": {
    "pycharm": {
     "is_executing": true
    }
   },
   "outputs": [],
   "source": [
    "dataframe.describe(include='all')"
   ]
  },
  {
   "cell_type": "markdown",
   "metadata": {},
   "source": [
    "Metoda head zwraca zbiór pierwszych n rekordów podanych w argumencie funkcji."
   ]
  },
  {
   "cell_type": "code",
   "execution_count": null,
   "metadata": {
    "pycharm": {
     "is_executing": true
    }
   },
   "outputs": [],
   "source": [
    "dataframe.head(3)"
   ]
  }
 ],
 "metadata": {
  "kernelspec": {
   "display_name": "Python 3 (ipykernel)",
   "language": "python",
   "name": "python3"
  },
  "language_info": {
   "codemirror_mode": {
    "name": "ipython",
    "version": 3
   },
   "file_extension": ".py",
   "mimetype": "text/x-python",
   "name": "python",
   "nbconvert_exporter": "python",
   "pygments_lexer": "ipython3",
   "version": "3.10.4"
  }
 },
 "nbformat": 4,
 "nbformat_minor": 1
}
